{
 "cells": [
  {
   "cell_type": "code",
   "execution_count": 2,
   "id": "initial_id",
   "metadata": {
    "collapsed": true,
    "ExecuteTime": {
     "end_time": "2024-04-04T20:15:19.965364Z",
     "start_time": "2024-04-04T20:15:19.816636Z"
    }
   },
   "outputs": [],
   "source": [
    "from bs4 import BeautifulSoup\n",
    "import csv\n",
    "import requests\n",
    "import pandas as pd"
   ]
  },
  {
   "cell_type": "code",
   "outputs": [],
   "source": [
    "official_wiki_url_list = [\n",
    "    \"https://en.wikipedia.org/wiki/List_of_countries_by_total_renewable_water_resources\",\n",
    "    \"https://en.wikipedia.org/wiki/List_of_countries_by_average_elevation\",\n",
    "    \"https://en.wikipedia.org/wiki/List_of_countries_by_ecological_footprint\",\n",
    "    \"https://en.wikipedia.org/wiki/List_of_countries_by_length_of_coastline\",\n",
    "    \"https://en.wikipedia.org/wiki/List_of_countries_by_carbon_intensity_of_GDP\",\n",
    "    \"https://en.wikipedia.org/wiki/List_of_countries_by_average_annual_precipitation\",\n",
    "    \"https://en.wikipedia.org/wiki/List_of_countries_and_dependencies_by_area\",\n",
    "    \"https://en.wikipedia.org/wiki/List_of_countries_and_dependencies_by_population\",\n",
    "    \"https://en.wikipedia.org/wiki/List_of_countries_and_dependencies_by_population_density\",\n",
    "    \"https://en.wikipedia.org/wiki/List_of_elevation_extremes_by_country\",\n",
    "]"
   ],
   "metadata": {
    "collapsed": false,
    "ExecuteTime": {
     "end_time": "2024-04-04T21:57:35.426211Z",
     "start_time": "2024-04-04T21:57:35.422205Z"
    }
   },
   "id": "284072314acf6058",
   "execution_count": 117
  },
  {
   "cell_type": "code",
   "outputs": [],
   "source": [
    "wiki_url_list = [\n",
    "    \"NULL\"\n",
    "]"
   ],
   "metadata": {
    "collapsed": false,
    "ExecuteTime": {
     "end_time": "2024-04-04T22:00:17.298733Z",
     "start_time": "2024-04-04T22:00:17.296229Z"
    }
   },
   "id": "408e829d4c48f82c",
   "execution_count": 119
  },
  {
   "cell_type": "code",
   "outputs": [],
   "source": [
    "# Backup request for when pandas does not work. Uses BS4.\n",
    "def backup_request(url):\n",
    "    try: \n",
    "        # Get the page url and scrape the data\n",
    "        page = requests.get(url)\n",
    "        soup = BeautifulSoup(page.content, \"html.parser\")\n",
    "        \n",
    "        # Find the title and use it as the csv file name\n",
    "        title_html = soup.find(\"h1\", id=\"firstHeading\")\n",
    "        title_html = [el.text.strip() for el in title_html][0].replace(\" \", \"_\")\n",
    "        title = \"data/\" + title_html + \".csv\"\n",
    "        print(f\"{url}, title: {title}\")\n",
    "\n",
    "        # Get the table     \n",
    "        table = soup.find('table', attrs={'class':'wikitable'})\n",
    "        # Find the table header names. Use them for col names\n",
    "        thead = table.find_all('th')\n",
    "        thead = [el.text.strip() for el in thead]\n",
    "        thead = [i.replace(\" \", \"_\") for i in thead]\n",
    "\n",
    "        # Get the rows. For each row, strip the info and save to a list\n",
    "        table_rows = table.find_all('tr')\n",
    "        res = []\n",
    "        for tr in table_rows:\n",
    "            td = tr.find_all('td')\n",
    "            row = [tr.text.strip() for tr in td if tr.text.strip()]\n",
    "            if row:\n",
    "                res.append(row)\n",
    "        \n",
    "        # Convert rows to dataframe\n",
    "        df = pd.DataFrame(res, columns=thead)\n",
    "        # Save to csv\n",
    "        df.to_csv(title, index=False)\n",
    "        \n",
    "    # Common exception: Known bug with assigning the column headers\n",
    "    except Exception as e:\n",
    "        print(f\"Error: {e}\")"
   ],
   "metadata": {
    "collapsed": false,
    "ExecuteTime": {
     "end_time": "2024-04-04T22:00:18.628767Z",
     "start_time": "2024-04-04T22:00:18.622257Z"
    }
   },
   "id": "c3e2196086fc91ff",
   "execution_count": 120
  },
  {
   "cell_type": "code",
   "outputs": [
    {
     "name": "stdout",
     "output_type": "stream",
     "text": [
      "https://en.wikipedia.org/wiki/List_of_countries_by_ecological_footprint, title: data/List_of_countries_by_ecological_footprint.csv\n",
      "https://en.wikipedia.org/wiki/List_of_countries_by_carbon_intensity_of_GDP, title: data/List_of_countries_by_carbon_intensity_of_GDP.csv\n",
      "https://en.wikipedia.org/wiki/List_of_countries_and_dependencies_by_area, title: data/List_of_countries_and_dependencies_by_area.csv\n"
     ]
    }
   ],
   "source": [
    "dataframe = []\n",
    "for url in wiki_url_list:\n",
    "    try:        \n",
    "        table = pd.read_html(url)\n",
    "        \n",
    "        page = requests.get(url)\n",
    "        soup = BeautifulSoup(page.content, \"html.parser\")\n",
    "        \n",
    "        title_html = soup.find(\"h1\", id=\"firstHeading\")\n",
    "        title_html = [el.text.strip() for el in title_html][0].replace(\" \", \"_\")\n",
    "        title = \"data/\" + title_html + \".csv\"\n",
    "        print(f\"{url}, title: {title}\")\n",
    "        \n",
    "        position = -1\n",
    "        length = -1\n",
    "        for i in range(0, len(table)):\n",
    "            if len(table[i]) > length:\n",
    "                position = i\n",
    "                length = len(table[i])\n",
    "        \n",
    "        df = table[position]\n",
    "        dataframe.append(df)\n",
    "        df.to_csv(title, index=False)\n",
    "        \n",
    "    except ValueError as e:\n",
    "        print(f\"Error: {e}\")\n",
    "        try:\n",
    "            backup_request(url)\n",
    "        except Exception as e:\n",
    "            print(e)"
   ],
   "metadata": {
    "collapsed": false,
    "ExecuteTime": {
     "end_time": "2024-04-04T22:19:41.856480Z",
     "start_time": "2024-04-04T22:19:39.463321Z"
    }
   },
   "id": "ee42746188ee2f77",
   "execution_count": 147
  }
 ],
 "metadata": {
  "kernelspec": {
   "display_name": "Python 3",
   "language": "python",
   "name": "python3"
  },
  "language_info": {
   "codemirror_mode": {
    "name": "ipython",
    "version": 2
   },
   "file_extension": ".py",
   "mimetype": "text/x-python",
   "name": "python",
   "nbconvert_exporter": "python",
   "pygments_lexer": "ipython2",
   "version": "2.7.6"
  }
 },
 "nbformat": 4,
 "nbformat_minor": 5
}
